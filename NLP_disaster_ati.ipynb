{
  "nbformat": 4,
  "nbformat_minor": 0,
  "metadata": {
    "colab": {
      "name": "NLP_disaster_ati.ipynb",
      "provenance": [],
      "collapsed_sections": []
    },
    "kernelspec": {
      "name": "python3",
      "display_name": "Python 3"
    }
  },
  "cells": [
    {
      "cell_type": "markdown",
      "metadata": {
        "id": "WfoxGBDDfZm4"
      },
      "source": [
        "In this code I developed a deep learning model based on glove for identifying authenticity of disaster tweets.\n"
      ]
    },
    {
      "cell_type": "code",
      "metadata": {
        "id": "5mrWv2-vfXX9"
      },
      "source": [
        "from google.colab import drive\n",
        "drive.mount(r'/content/drive/')"
      ],
      "execution_count": null,
      "outputs": []
    },
    {
      "cell_type": "code",
      "metadata": {
        "id": "R-QT7VpgZISZ",
        "outputId": "c657cf2d-853a-4b6e-b1b2-a6dad89bf956",
        "colab": {
          "base_uri": "https://localhost:8080/",
          "height": 190
        }
      },
      "source": [
        "import numpy as np\n",
        "import pandas as pd\n",
        "import matplotlib.pyplot as plt\n",
        "import seaborn as sns\n",
        "import tensorflow as tf\n",
        "from tqdm import tqdm\n",
        "import keras\n",
        "import os\n",
        "from keras.models import Sequential\n",
        "from keras.layers import Dense, Conv1D, MaxPool1D, RNN, Embedding, Flatten, SimpleRNN, LSTM, Bidirectional, SpatialDropout1D\n",
        "from keras.preprocessing.text import Tokenizer\n",
        "from keras.preprocessing.sequence import pad_sequences\n",
        "from keras import preprocessing\n",
        "from keras.optimizers import Adam\n",
        "from keras.initializers import Constant\n",
        "from sklearn.model_selection import train_test_split\n",
        "\n",
        "import re\n",
        "import string\n",
        "from collections import  Counter\n",
        "from sklearn.feature_extraction.text import CountVectorizer\n",
        "\n",
        "import nltk\n",
        "nltk.download('stopwords')\n",
        "from nltk.tokenize import word_tokenize\n",
        "from collections import defaultdict\n",
        "from nltk.corpus import stopwords\n",
        "stop=set(stopwords.words('english'))\n",
        "\n",
        "nltk.download('punkt')\n",
        "\n",
        "!pip install pyspellchecker\n",
        "from spellchecker import SpellChecker"
      ],
      "execution_count": 2,
      "outputs": [
        {
          "output_type": "stream",
          "text": [
            "[nltk_data] Downloading package stopwords to /root/nltk_data...\n",
            "[nltk_data]   Unzipping corpora/stopwords.zip.\n",
            "[nltk_data] Downloading package punkt to /root/nltk_data...\n",
            "[nltk_data]   Unzipping tokenizers/punkt.zip.\n",
            "Collecting pyspellchecker\n",
            "\u001b[?25l  Downloading https://files.pythonhosted.org/packages/f1/96/827c132397d0eb5731c1eda05dbfb019ede064ca8c7d0f329160ce0a4acd/pyspellchecker-0.5.5-py2.py3-none-any.whl (1.9MB)\n",
            "\u001b[K     |████████████████████████████████| 1.9MB 4.6MB/s \n",
            "\u001b[?25hInstalling collected packages: pyspellchecker\n",
            "Successfully installed pyspellchecker-0.5.5\n"
          ],
          "name": "stdout"
        }
      ]
    },
    {
      "cell_type": "code",
      "metadata": {
        "id": "nnuR7r7PZi7r",
        "outputId": "5bbd8b42-a537-41c8-f990-68459f03828d",
        "colab": {
          "base_uri": "https://localhost:8080/",
          "height": 442
        }
      },
      "source": [
        "#Importing train data and test data\n",
        "data = pd.read_csv(r'/content/drive/My Drive/NLP Disaster/train.csv')\n",
        "data_test = pd.read_csv(r'/content/drive/My Drive/NLP Disaster/test.csv')\n",
        "print(data.info())\n",
        "print(data_test.info())"
      ],
      "execution_count": 3,
      "outputs": [
        {
          "output_type": "stream",
          "text": [
            "<class 'pandas.core.frame.DataFrame'>\n",
            "RangeIndex: 7613 entries, 0 to 7612\n",
            "Data columns (total 5 columns):\n",
            " #   Column    Non-Null Count  Dtype \n",
            "---  ------    --------------  ----- \n",
            " 0   id        7613 non-null   int64 \n",
            " 1   keyword   7552 non-null   object\n",
            " 2   location  5080 non-null   object\n",
            " 3   text      7613 non-null   object\n",
            " 4   target    7613 non-null   int64 \n",
            "dtypes: int64(2), object(3)\n",
            "memory usage: 297.5+ KB\n",
            "None\n",
            "<class 'pandas.core.frame.DataFrame'>\n",
            "RangeIndex: 3263 entries, 0 to 3262\n",
            "Data columns (total 4 columns):\n",
            " #   Column    Non-Null Count  Dtype \n",
            "---  ------    --------------  ----- \n",
            " 0   id        3263 non-null   int64 \n",
            " 1   keyword   3237 non-null   object\n",
            " 2   location  2158 non-null   object\n",
            " 3   text      3263 non-null   object\n",
            "dtypes: int64(1), object(3)\n",
            "memory usage: 102.1+ KB\n",
            "None\n"
          ],
          "name": "stdout"
        }
      ]
    },
    {
      "cell_type": "code",
      "metadata": {
        "id": "kAChr1Djcgnr",
        "outputId": "1437355e-d1ed-48d9-c55f-8bfea6752c14",
        "colab": {
          "base_uri": "https://localhost:8080/",
          "height": 857
        }
      },
      "source": [
        "#General Data Inspection\n",
        "print(\"The number of data with nan location: \", sum(pd.isnull(data['location'])))\n",
        "print(\"The number of not real disaster with nan location: \", data[data.location.isnull() & data.target==1]['target'].sum())\n",
        "print(\"The number of nique locations: \", data.location.unique().shape)\n",
        "print(\"The number of not real disaster: \", data[data.target==1]['target'].count())\n",
        "print(\"The number of unique keywords :\", data.keyword.unique().shape)\n",
        "\n",
        "print(\"Number of words in each case\", data['text'].apply(lambda x:len(x.split())))\n",
        "print(\"Number of letters in each case\", data['text'].str.len())\n",
        "\n",
        "print(\"The number of Disaster and Not Disaster Cases: \", data.groupby(by=['target'])['target'].value_counts())\n",
        "sns.countplot(x='target', data=data)"
      ],
      "execution_count": 4,
      "outputs": [
        {
          "output_type": "stream",
          "text": [
            "The number of data with nan location:  2533\n",
            "The number of not real disaster with nan location:  1075\n",
            "The number of nique locations:  (3342,)\n",
            "The number of not real disaster:  3271\n",
            "The number of unique keywords : (222,)\n",
            "Number of words in each case 0       13\n",
            "1        7\n",
            "2       22\n",
            "3        8\n",
            "4       16\n",
            "        ..\n",
            "7608    11\n",
            "7609    20\n",
            "7610     8\n",
            "7611    19\n",
            "7612    13\n",
            "Name: text, Length: 7613, dtype: int64\n",
            "Number of letters in each case 0        69\n",
            "1        38\n",
            "2       133\n",
            "3        65\n",
            "4        88\n",
            "       ... \n",
            "7608     83\n",
            "7609    125\n",
            "7610     65\n",
            "7611    137\n",
            "7612     94\n",
            "Name: text, Length: 7613, dtype: int64\n",
            "The number of Disaster and Not Disaster Cases:  target  target\n",
            "0       0         4342\n",
            "1       1         3271\n",
            "Name: target, dtype: int64\n"
          ],
          "name": "stdout"
        },
        {
          "output_type": "execute_result",
          "data": {
            "text/plain": [
              "<matplotlib.axes._subplots.AxesSubplot at 0x7fe423e5b320>"
            ]
          },
          "metadata": {
            "tags": []
          },
          "execution_count": 4
        },
        {
          "output_type": "display_data",
          "data": {
            "image/png": "[encoded data removed]",
            "text/plain": [
              "<Figure size 432x288 with 1 Axes>"
            ]
          },
          "metadata": {
            "tags": [],
            "needs_background": "light"
          }
        }
      ]
    },
    {
      "cell_type": "code",
      "metadata": {
        "id": "f-6BW9qoNr2P",
        "outputId": "3f58a30f-d52e-4e00-a096-14c9c5c0e6c4",
        "colab": {
          "base_uri": "https://localhost:8080/",
          "height": 221
        }
      },
      "source": [
        "#Finding the most common words\n",
        "from collections import Counter\n",
        "results = Counter()\n",
        "data['text'].str.lower().str.split().apply(results.update)\n",
        "# print(results)\n",
        "# print(results.most_common)"
      ],
      "execution_count": 41,
      "outputs": [
        {
          "output_type": "execute_result",
          "data": {
            "text/plain": [
              "0       None\n",
              "1       None\n",
              "2       None\n",
              "3       None\n",
              "4       None\n",
              "        ... \n",
              "7608    None\n",
              "7609    None\n",
              "7610    None\n",
              "7611    None\n",
              "7612    None\n",
              "Name: text, Length: 7613, dtype: object"
            ]
          },
          "metadata": {
            "tags": []
          },
          "execution_count": 41
        }
      ]
    },
    {
      "cell_type": "code",
      "metadata": {
        "id": "6vLcsrjHboXP",
        "outputId": "d0d251fc-1088-4774-c81e-af3ad2df4665",
        "colab": {
          "base_uri": "https://localhost:8080/",
          "height": 311
        }
      },
      "source": [
        "#Histogram of the number of Caracters in texts in 2 plots(Disaster & Not Disaster)\n",
        "fig, (ax1,ax2) = plt.subplots(1, 2, figsize=(10, 4))\n",
        "\n",
        "text_len = data[data['target']==0]['text'].str.len()\n",
        "ax1.hist(text_len, color='green')\n",
        "ax1.set_title('Not Disaster')\n",
        "text_len = data[data['target']==1]['text'].str.len()\n",
        "ax2.hist(text_len, color='red')\n",
        "ax2.set_title('Real Disaster')\n",
        "fig.suptitle('The number of character in texts')"
      ],
      "execution_count": 36,
      "outputs": [
        {
          "output_type": "execute_result",
          "data": {
            "text/plain": [
              "Text(0.5, 0.98, 'The number of character in texts')"
            ]
          },
          "metadata": {
            "tags": []
          },
          "execution_count": 36
        },
        {
          "output_type": "display_data",
          "data": {
            "image/png": "[encoded data removed]",
            "text/plain": [
              "<Figure size 720x288 with 2 Axes>"
            ]
          },
          "metadata": {
            "tags": [],
            "needs_background": "light"
          }
        }
      ]
    },
    {
      "cell_type": "code",
      "metadata": {
        "id": "SR4mEmDpIf43",
        "outputId": "75df2e7f-67be-4783-9464-fcea0a4a15cd",
        "colab": {
          "base_uri": "https://localhost:8080/",
          "height": 311
        }
      },
      "source": [
        "#Histogram of the number of Caracters in texts in 2 plots(Disaster & Not Disaster)\n",
        "fig, (ax1, ax2) = plt.subplots(1,2, figsize=(10,4))\n",
        "\n",
        "text_len = data[data['target']==0]['text'].str.split().map(lambda x:len(x))\n",
        "ax1.hist(text_len, color='green')\n",
        "ax1.set_title('Not Disaster')\n",
        "\n",
        "text_len = data[data['target']==1]['text'].str.split().map(lambda x:len(x))\n",
        "ax2.hist(text_len, color='red')\n",
        "ax2.set_title('Real Disaster')\n",
        "\n",
        "\n",
        "fig.suptitle('The number of words in texts')"
      ],
      "execution_count": 35,
      "outputs": [
        {
          "output_type": "execute_result",
          "data": {
            "text/plain": [
              "Text(0.5, 0.98, 'The number of words in texts')"
            ]
          },
          "metadata": {
            "tags": []
          },
          "execution_count": 35
        },
        {
          "output_type": "display_data",
          "data": {
            "image/png": "[encoded data removed]",
            "text/plain": [
              "<Figure size 720x288 with 2 Axes>"
            ]
          },
          "metadata": {
            "tags": [],
            "needs_background": "light"
          }
        }
      ]
    },
    {
      "cell_type": "code",
      "metadata": {
        "id": "_8iEJ63tNAER",
        "outputId": "1804f0f5-67fb-4be3-e883-813b4b637abc",
        "colab": {
          "base_uri": "https://localhost:8080/",
          "height": 400
        }
      },
      "source": [
        "#Histogram of the mean of words' length in texts in 2 plots(Disaster & Not Disaster)\n",
        "fig, (ax1, ax2) = plt.subplots(1,2, figsize=(10,4))\n",
        "\n",
        "word_len = data[data['target']==0]['text'].str.split().map(lambda x:[len(i) for i in x])\n",
        "sns.distplot(word_len.map(lambda x:np.mean(x)), color='green', ax=ax1)\n",
        "ax1.set_title('Not Disaster')\n",
        "\n",
        "word_len = data[data['target']==1]['text'].str.split().map(lambda x:[len(i) for i in x])\n",
        "sns.distplot(word_len.map(lambda x:np.mean(x)), color='red', ax=ax2)\n",
        "ax2.set_title('Real Disaster')"
      ],
      "execution_count": 34,
      "outputs": [
        {
          "output_type": "stream",
          "text": [
            "/usr/local/lib/python3.6/dist-packages/seaborn/distributions.py:2551: FutureWarning: `distplot` is a deprecated function and will be removed in a future version. Please adapt your code to use either `displot` (a figure-level function with similar flexibility) or `histplot` (an axes-level function for histograms).\n",
            "  warnings.warn(msg, FutureWarning)\n",
            "/usr/local/lib/python3.6/dist-packages/seaborn/distributions.py:2551: FutureWarning: `distplot` is a deprecated function and will be removed in a future version. Please adapt your code to use either `displot` (a figure-level function with similar flexibility) or `histplot` (an axes-level function for histograms).\n",
            "  warnings.warn(msg, FutureWarning)\n"
          ],
          "name": "stderr"
        },
        {
          "output_type": "execute_result",
          "data": {
            "text/plain": [
              "Text(0.5, 1.0, 'Real Disaster')"
            ]
          },
          "metadata": {
            "tags": []
          },
          "execution_count": 34
        },
        {
          "output_type": "display_data",
          "data": {
            "image/png": "[encoded data removed]",
            "text/plain": [
              "<Figure size 720x288 with 2 Axes>"
            ]
          },
          "metadata": {
            "tags": [],
            "needs_background": "light"
          }
        }
      ]
    },
    {
      "cell_type": "code",
      "metadata": {
        "id": "gIZgZU4XOoim"
      },
      "source": [
        ""
      ],
      "execution_count": 8,
      "outputs": []
    },
    {
      "cell_type": "code",
      "metadata": {
        "id": "fEcCNBeZWMEz",
        "outputId": "55e48789-c56b-4b28-e9b0-5d5800b27427",
        "colab": {
          "base_uri": "https://localhost:8080/",
          "height": 298
        }
      },
      "source": [
        "#The frequency of most common wors that are in stop words\n",
        "def create_words(target):\n",
        "    words=[]   \n",
        "    for x in data[data['target']==target]['text'].str.split():\n",
        "        for i in x:\n",
        "            words.append(i)\n",
        "    return words\n",
        "#Not Disaster\n",
        "words = create_words(0)\n",
        "dic=defaultdict(int)\n",
        "for word in words:\n",
        "  if word in stop:\n",
        "    dic[word]+=1\n",
        "\n",
        "top = sorted(dic.items(), key=lambda x:x[1] ,reverse=True)[:10]\n",
        "x, y = zip(*top)\n",
        "fig, (ax1, ax2) = plt.subplots(1,2, figsize=(16,4))\n",
        "ax1.bar(x,y, color='green')\n",
        "ax1.set_title(\"Disaster\")\n",
        "\n",
        "#Disaster\n",
        "words = create_words(1)\n",
        "dic=defaultdict(int)\n",
        "for word in words:\n",
        "  if word in stop:\n",
        "    dic[word]+=1\n",
        "\n",
        "top = sorted(dic.items(), key=lambda x:x[1] ,reverse=True)[:10]\n",
        "x, y = zip(*top)\n",
        "\n",
        "ax2.bar(x,y, color='red')\n",
        "ax2.set_title(\"Not Disaster\")"
      ],
      "execution_count": 40,
      "outputs": [
        {
          "output_type": "execute_result",
          "data": {
            "text/plain": [
              "Text(0.5, 1.0, 'Not Disaster')"
            ]
          },
          "metadata": {
            "tags": []
          },
          "execution_count": 40
        },
        {
          "output_type": "display_data",
          "data": {
            "image/png": "[encoded data removed]",
            "text/plain": [
              "<Figure size 1152x288 with 2 Axes>"
            ]
          },
          "metadata": {
            "tags": [],
            "needs_background": "light"
          }
        }
      ]
    },
    {
      "cell_type": "code",
      "metadata": {
        "id": "Z83vYWuWWaXc"
      },
      "source": [
        "special = string.punctuation"
      ],
      "execution_count": 10,
      "outputs": []
    },
    {
      "cell_type": "code",
      "metadata": {
        "id": "DXjaZiU8qWZt",
        "outputId": "9285b495-c336-405a-ed40-593272f6b25a",
        "colab": {
          "base_uri": "https://localhost:8080/",
          "height": 601
        }
      },
      "source": [
        "#Punctuation bar for Not Disaster\n",
        "words = createwords(0)\n",
        "dic=defaultdict(int)\n",
        "for i in words:\n",
        "  if i in special:\n",
        "    dic[i]+=1\n",
        "x,y =zip(*dic.items())\n",
        "plt.bar(x, y, color='green')\n",
        "plt.title('Punctuation bar for Not Disaster')\n",
        "\n",
        "c = Counter(words)\n",
        "most = c.most_common()\n",
        "x=[]\n",
        "y=[]\n",
        "for word, count in most[:40]:\n",
        "  if word not in stop:\n",
        "    x.append(word)\n",
        "    y.append(count)\n",
        "plt.figure()\n",
        "sns.barplot(y,x)"
      ],
      "execution_count": 11,
      "outputs": [
        {
          "output_type": "stream",
          "text": [
            "/usr/local/lib/python3.6/dist-packages/seaborn/_decorators.py:43: FutureWarning: Pass the following variables as keyword args: x, y. From version 0.12, the only valid positional argument will be `data`, and passing other arguments without an explicit keyword will result in an error or misinterpretation.\n",
            "  FutureWarning\n"
          ],
          "name": "stderr"
        },
        {
          "output_type": "execute_result",
          "data": {
            "text/plain": [
              "<matplotlib.axes._subplots.AxesSubplot at 0x7fe4223e0c18>"
            ]
          },
          "metadata": {
            "tags": []
          },
          "execution_count": 11
        },
        {
          "output_type": "display_data",
          "data": {
            "image/png": "[encoded data removed]",
            "text/plain": [
              "<Figure size 432x288 with 1 Axes>"
            ]
          },
          "metadata": {
            "tags": [],
            "needs_background": "light"
          }
        },
        {
          "output_type": "display_data",
          "data": {
            "image/png": "[encoded data removed]",
            "text/plain": [
              "<Figure size 432x288 with 1 Axes>"
            ]
          },
          "metadata": {
            "tags": [],
            "needs_background": "light"
          }
        }
      ]
    },
    {
      "cell_type": "code",
      "metadata": {
        "id": "pTFZMppZrFBP",
        "outputId": "5ebca858-13d8-4783-d98d-fe0fb86ca2ac",
        "colab": {
          "base_uri": "https://localhost:8080/",
          "height": 601
        }
      },
      "source": [
        "#Punctuation bar for Disaster\n",
        "corpus = create_corpus(1)\n",
        "dic=defaultdict(int)\n",
        "for i in corpus:\n",
        "  if i in special:\n",
        "    dic[i]+=1\n",
        "x,y =zip(*dic.items())\n",
        "plt.bar(x, y, color='red')\n",
        "plt.title('Punctuation bar for real Disaster')\n",
        "\n",
        "c = Counter(corpus)\n",
        "most = c.most_common()\n",
        "x=[]\n",
        "y=[]\n",
        "for word, count in most[:40]:\n",
        "  if word not in stop:\n",
        "    x.append(word)\n",
        "    y.append(count)\n",
        "plt.figure()\n",
        "sns.barplot(y,x)"
      ],
      "execution_count": 12,
      "outputs": [
        {
          "output_type": "stream",
          "text": [
            "/usr/local/lib/python3.6/dist-packages/seaborn/_decorators.py:43: FutureWarning: Pass the following variables as keyword args: x, y. From version 0.12, the only valid positional argument will be `data`, and passing other arguments without an explicit keyword will result in an error or misinterpretation.\n",
            "  FutureWarning\n"
          ],
          "name": "stderr"
        },
        {
          "output_type": "execute_result",
          "data": {
            "text/plain": [
              "<matplotlib.axes._subplots.AxesSubplot at 0x7fe421de6358>"
            ]
          },
          "metadata": {
            "tags": []
          },
          "execution_count": 12
        },
        {
          "output_type": "display_data",
          "data": {
            "image/png": "[encoded data removed]",
            "text/plain": [
              "<Figure size 432x288 with 1 Axes>"
            ]
          },
          "metadata": {
            "tags": [],
            "needs_background": "light"
          }
        },
        {
          "output_type": "display_data",
          "data": {
            "image/png": "[encoded data removed]",
            "text/plain": [
              "<Figure size 432x288 with 1 Axes>"
            ]
          },
          "metadata": {
            "tags": [],
            "needs_background": "light"
          }
        }
      ]
    },
    {
      "cell_type": "code",
      "metadata": {
        "id": "4eg5AbyyulSG"
      },
      "source": [
        "def get_top_tweet_bigrams(corpus, n=None):\n",
        "  vectorizer = CountVectorizer(ngram_range=(2, 2))\n",
        "  bag_of_words = vectorizer.fit_transform(corpus)\n",
        "  sum_words = bag_of_words.sum(axis=0)\n",
        "  words_freq = [(word, sum_words[0, idx]) for word, idx in vectorizer.vocabulary_.items()]\n",
        "  words_freq = sorted(words_freq, key= lambda x:x[1], reverse=True)\n",
        "  return words_freq[:n]"
      ],
      "execution_count": 13,
      "outputs": []
    },
    {
      "cell_type": "code",
      "metadata": {
        "id": "y1ijAcg4Fc9a",
        "outputId": "5e953f82-3928-47da-9e7d-b553bab57a88",
        "colab": {
          "base_uri": "https://localhost:8080/",
          "height": 392
        }
      },
      "source": [
        "top_tweet_bigrams=get_top_tweet_bigrams(data['text'])[:10]\n",
        "x,y=map(list,zip(*top_tweet_bigrams))\n",
        "plt.figure(figsize=(10,5))\n",
        "sns.barplot(x,y)"
      ],
      "execution_count": 14,
      "outputs": [
        {
          "output_type": "stream",
          "text": [
            "/usr/local/lib/python3.6/dist-packages/seaborn/_decorators.py:43: FutureWarning: Pass the following variables as keyword args: x, y. From version 0.12, the only valid positional argument will be `data`, and passing other arguments without an explicit keyword will result in an error or misinterpretation.\n",
            "  FutureWarning\n"
          ],
          "name": "stderr"
        },
        {
          "output_type": "execute_result",
          "data": {
            "text/plain": [
              "<matplotlib.axes._subplots.AxesSubplot at 0x7fe4221b8da0>"
            ]
          },
          "metadata": {
            "tags": []
          },
          "execution_count": 14
        },
        {
          "output_type": "display_data",
          "data": {
            "image/png": "[encoded data removed]",
            "text/plain": [
              "<Figure size 720x360 with 1 Axes>"
            ]
          },
          "metadata": {
            "tags": [],
            "needs_background": "light"
          }
        }
      ]
    },
    {
      "cell_type": "code",
      "metadata": {
        "id": "KQQDfiMWIOOU",
        "outputId": "69a6ec00-f932-4bfe-c5bd-c765c3abba78",
        "colab": {
          "base_uri": "https://localhost:8080/",
          "height": 34
        }
      },
      "source": [
        "df = pd.concat([data, data_test])\n",
        "df.shape"
      ],
      "execution_count": 15,
      "outputs": [
        {
          "output_type": "execute_result",
          "data": {
            "text/plain": [
              "(10876, 5)"
            ]
          },
          "metadata": {
            "tags": []
          },
          "execution_count": 15
        }
      ]
    },
    {
      "cell_type": "code",
      "metadata": {
        "id": "sOqQZilMFcMF"
      },
      "source": [
        "# Removing url, html, emoji and punctuation\n",
        "def remove_URL(text):\n",
        "    url = re.compile(r'https?://\\S+|www\\.\\S+')\n",
        "    return url.sub(r'',text)\n",
        "\n",
        "def remove_html(text):\n",
        "    html=re.compile(r'<.*?>')\n",
        "    return html.sub(r'',text)\n",
        "\n",
        "def remove_emoji(text):\n",
        "    emoji_pattern = re.compile(\"[\"\n",
        "                           u\"\\U0001F600-\\U0001F64F\"  # emoticons\n",
        "                           u\"\\U0001F300-\\U0001F5FF\"  # symbols & pictographs\n",
        "                           u\"\\U0001F680-\\U0001F6FF\"  # transport & map symbols\n",
        "                           u\"\\U0001F1E0-\\U0001F1FF\"  # flags (iOS)\n",
        "                           u\"\\U00002702-\\U000027B0\"\n",
        "                           u\"\\U000024C2-\\U0001F251\"\n",
        "                           \"]+\", flags=re.UNICODE)\n",
        "    return emoji_pattern.sub(r'', text)\n",
        "\n",
        "def remove_punct(text):\n",
        "    table=str.maketrans('','',string.punctuation)\n",
        "    return text.translate(table)\n",
        "df['text'] = df['text'].apply(lambda x:remove_URL(x))\n",
        "df['text'] = df['text'].apply(lambda x:remove_html(x))\n",
        "df['text'] = df['text'].apply(lambda x:remove_emoji(x))\n",
        "df['text'] = df['text'].apply(lambda x:remove_punct(x))"
      ],
      "execution_count": 16,
      "outputs": []
    },
    {
      "cell_type": "code",
      "metadata": {
        "id": "TFe3220GBncv"
      },
      "source": [
        "#Correcting Spell\n",
        "from spellchecker import SpellChecker\n",
        "\n",
        "spell = SpellChecker()\n",
        "def correct_spell(text):\n",
        "    corrected_text = []\n",
        "    misspelled_words = spell.unknown(text.split())\n",
        "    for word in text.split():\n",
        "        if word in misspelled_words:\n",
        "            corrected_text.append(spell.correction(word))\n",
        "        else:\n",
        "            corrected_text.append(word)\n",
        "    return \" \".join(corrected_text)\n",
        "        \n",
        "df['text']=df['text'].apply(lambda x : correct_spell(x))"
      ],
      "execution_count": 17,
      "outputs": []
    },
    {
      "cell_type": "code",
      "metadata": {
        "id": "pabQfPKvgtEg",
        "outputId": "b5c81529-a31a-4a6b-ca46-c18821689426",
        "colab": {
          "base_uri": "https://localhost:8080/",
          "height": 34
        }
      },
      "source": [
        "def create_corpus(df):\n",
        "    corpus=[]\n",
        "    for tweet in tqdm(df['text']):\n",
        "        words=[word.lower() for word in word_tokenize(tweet) if((word.isalpha()==1) & (word not in stop))]\n",
        "        corpus.append(words)\n",
        "    return corpus\n",
        "\n",
        "corpus=create_corpus(df)"
      ],
      "execution_count": 18,
      "outputs": [
        {
          "output_type": "stream",
          "text": [
            "100%|██████████| 10876/10876 [00:01<00:00, 7544.12it/s]\n"
          ],
          "name": "stderr"
        }
      ]
    },
    {
      "cell_type": "code",
      "metadata": {
        "id": "zm_Ds2xpjMCp"
      },
      "source": [
        "embedding_dict={}\n",
        "with open('/content/drive/My Drive/NLP Disaster/glove.6B.100d.txt','r') as f:\n",
        "    for line in f:\n",
        "        values=line.split()\n",
        "        word=values[0]\n",
        "        vectors=np.asarray(values[1:],'float32')\n",
        "        embedding_dict[word]=vectors\n",
        "f.close()"
      ],
      "execution_count": 19,
      "outputs": []
    },
    {
      "cell_type": "code",
      "metadata": {
        "id": "2xyReYj4kSDQ",
        "outputId": "637947f8-565c-47fc-b728-55a527add0dc",
        "colab": {
          "base_uri": "https://localhost:8080/",
          "height": 34
        }
      },
      "source": [
        "#Number of unique words\n",
        "MAX_LEN=50\n",
        "tokenizer_obj=Tokenizer()\n",
        "tokenizer_obj.fit_on_texts(corpus)\n",
        "sequences=tokenizer_obj.texts_to_sequences(corpus)\n",
        "tweet_pad=pad_sequences(sequences,maxlen=MAX_LEN,truncating='post',padding='post')\n",
        "word_index=tokenizer_obj.word_index\n",
        "print('Number of unique words:',len(word_index))\n",
        "\n",
        "num_words=len(word_index)+1\n",
        "embedding_matrix=np.zeros((num_words,100))\n",
        "\n",
        "for word,i in tqdm(word_index.items()):\n",
        "    if i > num_words:\n",
        "        continue\n",
        "    \n",
        "    emb_vec=embedding_dict.get(word)\n",
        "    if emb_vec is not None:\n",
        "        embedding_matrix[i]=emb_vec"
      ],
      "execution_count": 21,
      "outputs": [
        {
          "output_type": "stream",
          "text": [
            "100%|██████████| 19589/19589 [00:00<00:00, 555472.92it/s]\n"
          ],
          "name": "stderr"
        }
      ]
    },
    {
      "cell_type": "code",
      "metadata": {
        "id": "iSQxnAu9kSID",
        "outputId": "37d08f89-0004-4788-c528-ec218aa38cdb",
        "colab": {
          "base_uri": "https://localhost:8080/",
          "height": 289
        }
      },
      "source": [
        "#MODEL\n",
        "model = Sequential()\n",
        "embedding = Embedding(num_words, 100, embeddings_initializer=Constant(embedding_matrix), input_length=MAX_LEN, trainable=False)\n",
        "model.add(embedding)\n",
        "model.add(SpatialDropout1D(0.2))\n",
        "model.add(LSTM(64, dropout=0.2, recurrent_dropout=0.2))\n",
        "model.add(Dense(1, activation='sigmoid'))\n",
        "model.summary()\n",
        "\n",
        "model.compile(loss='binary_crossentropy', optimizer=Adam(learning_rate=1e-5), metrics=['acc'])"
      ],
      "execution_count": 22,
      "outputs": [
        {
          "output_type": "stream",
          "text": [
            "Model: \"sequential\"\n",
            "_________________________________________________________________\n",
            "Layer (type)                 Output Shape              Param #   \n",
            "=================================================================\n",
            "embedding (Embedding)        (None, 50, 100)           1959000   \n",
            "_________________________________________________________________\n",
            "spatial_dropout1d (SpatialDr (None, 50, 100)           0         \n",
            "_________________________________________________________________\n",
            "lstm (LSTM)                  (None, 64)                42240     \n",
            "_________________________________________________________________\n",
            "dense (Dense)                (None, 1)                 65        \n",
            "=================================================================\n",
            "Total params: 2,001,305\n",
            "Trainable params: 42,305\n",
            "Non-trainable params: 1,959,000\n",
            "_________________________________________________________________\n"
          ],
          "name": "stdout"
        }
      ]
    },
    {
      "cell_type": "code",
      "metadata": {
        "id": "CsOnoovlo4ro",
        "outputId": "0f272d64-edda-4848-e458-610cd461aae1",
        "colab": {
          "base_uri": "https://localhost:8080/",
          "height": 1000
        }
      },
      "source": [
        "train = tweet_pad[:data.shape[0]]\n",
        "test = tweet_pad[data.shape[0]:]\n",
        "X_train,X_test,y_train,y_test=train_test_split(train,data['target'].values,test_size=0.15)\n",
        "print('Shape of train',X_train.shape)\n",
        "print(\"Shape of Validation \",X_test.shape)\n",
        "history=model.fit(X_train,y_train,batch_size=4,epochs=100,validation_data=(X_test,y_test), verbose=1)"
      ],
      "execution_count": 31,
      "outputs": [
        {
          "output_type": "stream",
          "text": [
            "Shape of train (6471, 50)\n",
            "Shape of Validation  (1142, 50)\n",
            "Epoch 1/100\n",
            "1618/1618 [==============================] - 77s 48ms/step - loss: 0.4772 - acc: 0.7870 - val_loss: 0.4375 - val_acc: 0.8152\n",
            "Epoch 2/100\n",
            "1618/1618 [==============================] - 76s 47ms/step - loss: 0.4714 - acc: 0.7900 - val_loss: 0.4370 - val_acc: 0.8109\n",
            "Epoch 3/100\n",
            "1618/1618 [==============================] - 76s 47ms/step - loss: 0.4725 - acc: 0.7887 - val_loss: 0.4373 - val_acc: 0.8117\n",
            "Epoch 4/100\n",
            "1618/1618 [==============================] - 76s 47ms/step - loss: 0.4686 - acc: 0.7937 - val_loss: 0.4369 - val_acc: 0.8109\n",
            "Epoch 5/100\n",
            "1618/1618 [==============================] - 77s 48ms/step - loss: 0.4701 - acc: 0.7889 - val_loss: 0.4360 - val_acc: 0.8135\n",
            "Epoch 6/100\n",
            "1618/1618 [==============================] - 76s 47ms/step - loss: 0.4670 - acc: 0.7912 - val_loss: 0.4360 - val_acc: 0.8144\n",
            "Epoch 7/100\n",
            "1618/1618 [==============================] - 77s 47ms/step - loss: 0.4629 - acc: 0.7963 - val_loss: 0.4345 - val_acc: 0.8135\n",
            "Epoch 8/100\n",
            "1618/1618 [==============================] - 76s 47ms/step - loss: 0.4631 - acc: 0.7955 - val_loss: 0.4349 - val_acc: 0.8091\n",
            "Epoch 9/100\n",
            "1618/1618 [==============================] - 76s 47ms/step - loss: 0.4635 - acc: 0.7915 - val_loss: 0.4341 - val_acc: 0.8144\n",
            "Epoch 10/100\n",
            "1618/1618 [==============================] - 77s 47ms/step - loss: 0.4634 - acc: 0.7960 - val_loss: 0.4339 - val_acc: 0.8135\n",
            "Epoch 11/100\n",
            "1618/1618 [==============================] - 76s 47ms/step - loss: 0.4603 - acc: 0.7929 - val_loss: 0.4342 - val_acc: 0.8152\n",
            "Epoch 12/100\n",
            "1618/1618 [==============================] - 75s 47ms/step - loss: 0.4592 - acc: 0.7968 - val_loss: 0.4348 - val_acc: 0.8126\n",
            "Epoch 13/100\n",
            "1618/1618 [==============================] - 76s 47ms/step - loss: 0.4647 - acc: 0.7903 - val_loss: 0.4321 - val_acc: 0.8152\n",
            "Epoch 14/100\n",
            "1618/1618 [==============================] - 76s 47ms/step - loss: 0.4611 - acc: 0.7962 - val_loss: 0.4314 - val_acc: 0.8161\n",
            "Epoch 15/100\n",
            "1618/1618 [==============================] - 76s 47ms/step - loss: 0.4595 - acc: 0.7979 - val_loss: 0.4305 - val_acc: 0.8126\n",
            "Epoch 16/100\n",
            "1618/1618 [==============================] - 75s 47ms/step - loss: 0.4571 - acc: 0.7972 - val_loss: 0.4287 - val_acc: 0.8161\n",
            "Epoch 17/100\n",
            "1618/1618 [==============================] - 76s 47ms/step - loss: 0.4557 - acc: 0.7965 - val_loss: 0.4290 - val_acc: 0.8152\n",
            "Epoch 18/100\n",
            "1618/1618 [==============================] - 75s 47ms/step - loss: 0.4559 - acc: 0.7968 - val_loss: 0.4297 - val_acc: 0.8117\n",
            "Epoch 19/100\n",
            "1618/1618 [==============================] - 76s 47ms/step - loss: 0.4530 - acc: 0.8023 - val_loss: 0.4279 - val_acc: 0.8152\n",
            "Epoch 20/100\n",
            "1618/1618 [==============================] - 75s 46ms/step - loss: 0.4534 - acc: 0.8005 - val_loss: 0.4286 - val_acc: 0.8152\n",
            "Epoch 21/100\n",
            "1618/1618 [==============================] - 76s 47ms/step - loss: 0.4572 - acc: 0.7968 - val_loss: 0.4280 - val_acc: 0.8152\n",
            "Epoch 22/100\n",
            "1618/1618 [==============================] - 76s 47ms/step - loss: 0.4572 - acc: 0.7954 - val_loss: 0.4286 - val_acc: 0.8126\n",
            "Epoch 23/100\n",
            "1618/1618 [==============================] - 76s 47ms/step - loss: 0.4486 - acc: 0.8050 - val_loss: 0.4288 - val_acc: 0.8161\n",
            "Epoch 24/100\n",
            "1618/1618 [==============================] - 76s 47ms/step - loss: 0.4486 - acc: 0.8042 - val_loss: 0.4303 - val_acc: 0.8126\n",
            "Epoch 25/100\n",
            "1618/1618 [==============================] - 77s 48ms/step - loss: 0.4527 - acc: 0.7965 - val_loss: 0.4287 - val_acc: 0.8135\n",
            "Epoch 26/100\n",
            "1618/1618 [==============================] - 77s 48ms/step - loss: 0.4510 - acc: 0.8027 - val_loss: 0.4282 - val_acc: 0.8144\n",
            "Epoch 27/100\n",
            "1618/1618 [==============================] - 76s 47ms/step - loss: 0.4530 - acc: 0.7993 - val_loss: 0.4264 - val_acc: 0.8144\n",
            "Epoch 28/100\n",
            "1618/1618 [==============================] - 76s 47ms/step - loss: 0.4509 - acc: 0.7974 - val_loss: 0.4263 - val_acc: 0.8161\n",
            "Epoch 29/100\n",
            "1618/1618 [==============================] - 74s 46ms/step - loss: 0.4521 - acc: 0.7957 - val_loss: 0.4265 - val_acc: 0.8152\n",
            "Epoch 30/100\n",
            "1618/1618 [==============================] - 73s 45ms/step - loss: 0.4492 - acc: 0.8028 - val_loss: 0.4288 - val_acc: 0.8144\n",
            "Epoch 31/100\n",
            "1618/1618 [==============================] - 74s 46ms/step - loss: 0.4485 - acc: 0.8016 - val_loss: 0.4285 - val_acc: 0.8144\n",
            "Epoch 32/100\n",
            "1618/1618 [==============================] - 74s 46ms/step - loss: 0.4479 - acc: 0.7996 - val_loss: 0.4289 - val_acc: 0.8161\n",
            "Epoch 33/100\n",
            "1618/1618 [==============================] - 74s 46ms/step - loss: 0.4463 - acc: 0.7991 - val_loss: 0.4264 - val_acc: 0.8161\n",
            "Epoch 34/100\n",
            "1618/1618 [==============================] - 74s 46ms/step - loss: 0.4466 - acc: 0.8013 - val_loss: 0.4271 - val_acc: 0.8161\n",
            "Epoch 35/100\n",
            "1618/1618 [==============================] - 75s 46ms/step - loss: 0.4487 - acc: 0.7979 - val_loss: 0.4284 - val_acc: 0.8135\n",
            "Epoch 36/100\n",
            "1618/1618 [==============================] - 74s 46ms/step - loss: 0.4489 - acc: 0.8013 - val_loss: 0.4272 - val_acc: 0.8144\n",
            "Epoch 37/100\n",
            "1618/1618 [==============================] - 74s 46ms/step - loss: 0.4470 - acc: 0.8006 - val_loss: 0.4258 - val_acc: 0.8152\n",
            "Epoch 38/100\n",
            "1618/1618 [==============================] - 73s 45ms/step - loss: 0.4469 - acc: 0.8023 - val_loss: 0.4261 - val_acc: 0.8152\n",
            "Epoch 39/100\n",
            "1618/1618 [==============================] - 75s 46ms/step - loss: 0.4428 - acc: 0.8042 - val_loss: 0.4258 - val_acc: 0.8152\n",
            "Epoch 40/100\n",
            "1618/1618 [==============================] - 74s 46ms/step - loss: 0.4525 - acc: 0.7969 - val_loss: 0.4287 - val_acc: 0.8161\n",
            "Epoch 41/100\n",
            "1618/1618 [==============================] - 73s 45ms/step - loss: 0.4452 - acc: 0.8011 - val_loss: 0.4257 - val_acc: 0.8161\n",
            "Epoch 42/100\n",
            "1618/1618 [==============================] - 72s 44ms/step - loss: 0.4454 - acc: 0.8011 - val_loss: 0.4255 - val_acc: 0.8135\n",
            "Epoch 43/100\n",
            "1618/1618 [==============================] - 74s 46ms/step - loss: 0.4454 - acc: 0.7968 - val_loss: 0.4234 - val_acc: 0.8161\n",
            "Epoch 44/100\n",
            "1618/1618 [==============================] - 72s 45ms/step - loss: 0.4420 - acc: 0.8062 - val_loss: 0.4239 - val_acc: 0.8152\n",
            "Epoch 45/100\n",
            "1618/1618 [==============================] - 72s 45ms/step - loss: 0.4419 - acc: 0.8020 - val_loss: 0.4259 - val_acc: 0.8152\n",
            "Epoch 46/100\n",
            "1618/1618 [==============================] - 72s 44ms/step - loss: 0.4403 - acc: 0.8047 - val_loss: 0.4228 - val_acc: 0.8179\n",
            "Epoch 47/100\n",
            "1618/1618 [==============================] - 72s 44ms/step - loss: 0.4373 - acc: 0.8090 - val_loss: 0.4232 - val_acc: 0.8152\n",
            "Epoch 48/100\n",
            "1618/1618 [==============================] - 73s 45ms/step - loss: 0.4421 - acc: 0.8020 - val_loss: 0.4251 - val_acc: 0.8161\n",
            "Epoch 49/100\n",
            "1618/1618 [==============================] - 72s 45ms/step - loss: 0.4406 - acc: 0.8036 - val_loss: 0.4265 - val_acc: 0.8187\n",
            "Epoch 50/100\n",
            "1618/1618 [==============================] - 72s 44ms/step - loss: 0.4394 - acc: 0.8044 - val_loss: 0.4226 - val_acc: 0.8179\n",
            "Epoch 51/100\n",
            "1618/1618 [==============================] - 72s 44ms/step - loss: 0.4430 - acc: 0.8053 - val_loss: 0.4228 - val_acc: 0.8170\n",
            "Epoch 52/100\n",
            "1618/1618 [==============================] - 72s 45ms/step - loss: 0.4423 - acc: 0.8019 - val_loss: 0.4226 - val_acc: 0.8170\n",
            "Epoch 53/100\n",
            "1618/1618 [==============================] - 72s 44ms/step - loss: 0.4362 - acc: 0.8074 - val_loss: 0.4210 - val_acc: 0.8187\n",
            "Epoch 54/100\n",
            "1618/1618 [==============================] - 72s 44ms/step - loss: 0.4370 - acc: 0.8071 - val_loss: 0.4241 - val_acc: 0.8144\n",
            "Epoch 55/100\n",
            "1618/1618 [==============================] - 72s 44ms/step - loss: 0.4347 - acc: 0.8112 - val_loss: 0.4242 - val_acc: 0.8170\n",
            "Epoch 56/100\n",
            "1618/1618 [==============================] - 73s 45ms/step - loss: 0.4369 - acc: 0.8033 - val_loss: 0.4203 - val_acc: 0.8179\n",
            "Epoch 57/100\n",
            "1618/1618 [==============================] - 72s 45ms/step - loss: 0.4344 - acc: 0.8076 - val_loss: 0.4224 - val_acc: 0.8196\n",
            "Epoch 58/100\n",
            "1618/1618 [==============================] - 72s 44ms/step - loss: 0.4342 - acc: 0.8096 - val_loss: 0.4218 - val_acc: 0.8170\n",
            "Epoch 59/100\n",
            "1618/1618 [==============================] - 72s 45ms/step - loss: 0.4375 - acc: 0.8054 - val_loss: 0.4211 - val_acc: 0.8161\n",
            "Epoch 60/100\n",
            "1618/1618 [==============================] - 72s 45ms/step - loss: 0.4375 - acc: 0.8073 - val_loss: 0.4252 - val_acc: 0.8214\n",
            "Epoch 61/100\n",
            "1618/1618 [==============================] - 72s 45ms/step - loss: 0.4332 - acc: 0.8121 - val_loss: 0.4273 - val_acc: 0.8179\n",
            "Epoch 62/100\n",
            "1618/1618 [==============================] - 72s 44ms/step - loss: 0.4318 - acc: 0.8132 - val_loss: 0.4255 - val_acc: 0.8214\n",
            "Epoch 63/100\n",
            "1618/1618 [==============================] - 72s 45ms/step - loss: 0.4351 - acc: 0.8090 - val_loss: 0.4222 - val_acc: 0.8187\n",
            "Epoch 64/100\n",
            "1618/1618 [==============================] - 72s 44ms/step - loss: 0.4311 - acc: 0.8087 - val_loss: 0.4227 - val_acc: 0.8205\n",
            "Epoch 65/100\n",
            "1618/1618 [==============================] - 72s 45ms/step - loss: 0.4287 - acc: 0.8112 - val_loss: 0.4226 - val_acc: 0.8179\n",
            "Epoch 66/100\n",
            "1618/1618 [==============================] - 72s 44ms/step - loss: 0.4332 - acc: 0.8074 - val_loss: 0.4207 - val_acc: 0.8214\n",
            "Epoch 67/100\n",
            "1618/1618 [==============================] - 72s 44ms/step - loss: 0.4300 - acc: 0.8095 - val_loss: 0.4246 - val_acc: 0.8249\n",
            "Epoch 68/100\n",
            "1618/1618 [==============================] - 72s 45ms/step - loss: 0.4312 - acc: 0.8104 - val_loss: 0.4180 - val_acc: 0.8257\n",
            "Epoch 69/100\n",
            "1618/1618 [==============================] - 73s 45ms/step - loss: 0.4291 - acc: 0.8104 - val_loss: 0.4206 - val_acc: 0.8240\n",
            "Epoch 70/100\n",
            "1618/1618 [==============================] - 72s 45ms/step - loss: 0.4331 - acc: 0.8091 - val_loss: 0.4201 - val_acc: 0.8240\n",
            "Epoch 71/100\n",
            "1618/1618 [==============================] - 73s 45ms/step - loss: 0.4272 - acc: 0.8136 - val_loss: 0.4204 - val_acc: 0.8214\n",
            "Epoch 72/100\n",
            "1618/1618 [==============================] - 72s 45ms/step - loss: 0.4303 - acc: 0.8116 - val_loss: 0.4223 - val_acc: 0.8205\n",
            "Epoch 73/100\n",
            "1618/1618 [==============================] - 73s 45ms/step - loss: 0.4319 - acc: 0.8090 - val_loss: 0.4232 - val_acc: 0.8205\n",
            "Epoch 74/100\n",
            "1618/1618 [==============================] - 75s 47ms/step - loss: 0.4324 - acc: 0.8107 - val_loss: 0.4199 - val_acc: 0.8205\n",
            "Epoch 75/100\n",
            "1618/1618 [==============================] - 75s 47ms/step - loss: 0.4263 - acc: 0.8132 - val_loss: 0.4216 - val_acc: 0.8222\n",
            "Epoch 76/100\n",
            "1618/1618 [==============================] - 76s 47ms/step - loss: 0.4235 - acc: 0.8152 - val_loss: 0.4192 - val_acc: 0.8170\n",
            "Epoch 77/100\n",
            "1618/1618 [==============================] - 76s 47ms/step - loss: 0.4274 - acc: 0.8150 - val_loss: 0.4214 - val_acc: 0.8187\n",
            "Epoch 78/100\n",
            "1618/1618 [==============================] - 78s 48ms/step - loss: 0.4273 - acc: 0.8132 - val_loss: 0.4177 - val_acc: 0.8187\n",
            "Epoch 79/100\n",
            "1618/1618 [==============================] - 76s 47ms/step - loss: 0.4208 - acc: 0.8183 - val_loss: 0.4197 - val_acc: 0.8205\n",
            "Epoch 80/100\n",
            "1618/1618 [==============================] - 75s 47ms/step - loss: 0.4278 - acc: 0.8087 - val_loss: 0.4206 - val_acc: 0.8214\n",
            "Epoch 81/100\n",
            "1618/1618 [==============================] - 76s 47ms/step - loss: 0.4270 - acc: 0.8099 - val_loss: 0.4210 - val_acc: 0.8196\n",
            "Epoch 82/100\n",
            "1618/1618 [==============================] - 76s 47ms/step - loss: 0.4229 - acc: 0.8170 - val_loss: 0.4191 - val_acc: 0.8222\n",
            "Epoch 83/100\n",
            "1618/1618 [==============================] - 76s 47ms/step - loss: 0.4252 - acc: 0.8116 - val_loss: 0.4192 - val_acc: 0.8205\n",
            "Epoch 84/100\n",
            "1618/1618 [==============================] - 75s 46ms/step - loss: 0.4216 - acc: 0.8139 - val_loss: 0.4187 - val_acc: 0.8179\n",
            "Epoch 85/100\n",
            "1618/1618 [==============================] - 75s 46ms/step - loss: 0.4276 - acc: 0.8135 - val_loss: 0.4199 - val_acc: 0.8222\n",
            "Epoch 86/100\n",
            "1618/1618 [==============================] - 75s 46ms/step - loss: 0.4284 - acc: 0.8127 - val_loss: 0.4183 - val_acc: 0.8214\n",
            "Epoch 87/100\n",
            "1618/1618 [==============================] - 75s 46ms/step - loss: 0.4253 - acc: 0.8175 - val_loss: 0.4201 - val_acc: 0.8222\n",
            "Epoch 88/100\n",
            "1618/1618 [==============================] - 75s 46ms/step - loss: 0.4133 - acc: 0.8252 - val_loss: 0.4234 - val_acc: 0.8187\n",
            "Epoch 89/100\n",
            "1618/1618 [==============================] - 75s 46ms/step - loss: 0.4202 - acc: 0.8186 - val_loss: 0.4211 - val_acc: 0.8222\n",
            "Epoch 90/100\n",
            "1618/1618 [==============================] - 76s 47ms/step - loss: 0.4235 - acc: 0.8147 - val_loss: 0.4225 - val_acc: 0.8205\n",
            "Epoch 91/100\n",
            "1618/1618 [==============================] - 75s 46ms/step - loss: 0.4210 - acc: 0.8124 - val_loss: 0.4169 - val_acc: 0.8205\n",
            "Epoch 92/100\n",
            "1618/1618 [==============================] - 75s 47ms/step - loss: 0.4210 - acc: 0.8138 - val_loss: 0.4192 - val_acc: 0.8196\n",
            "Epoch 93/100\n",
            "1618/1618 [==============================] - 75s 47ms/step - loss: 0.4204 - acc: 0.8158 - val_loss: 0.4177 - val_acc: 0.8222\n",
            "Epoch 94/100\n",
            "1618/1618 [==============================] - 76s 47ms/step - loss: 0.4194 - acc: 0.8161 - val_loss: 0.4193 - val_acc: 0.8240\n",
            "Epoch 95/100\n",
            "1618/1618 [==============================] - 75s 46ms/step - loss: 0.4226 - acc: 0.8147 - val_loss: 0.4225 - val_acc: 0.8187\n",
            "Epoch 96/100\n",
            "1618/1618 [==============================] - 74s 46ms/step - loss: 0.4185 - acc: 0.8159 - val_loss: 0.4184 - val_acc: 0.8196\n",
            "Epoch 97/100\n",
            "1618/1618 [==============================] - 74s 46ms/step - loss: 0.4215 - acc: 0.8150 - val_loss: 0.4182 - val_acc: 0.8205\n",
            "Epoch 98/100\n",
            "1618/1618 [==============================] - 75s 46ms/step - loss: 0.4172 - acc: 0.8150 - val_loss: 0.4212 - val_acc: 0.8214\n",
            "Epoch 99/100\n",
            "1618/1618 [==============================] - 73s 45ms/step - loss: 0.4181 - acc: 0.8175 - val_loss: 0.4163 - val_acc: 0.8214\n",
            "Epoch 100/100\n",
            "1618/1618 [==============================] - 74s 46ms/step - loss: 0.4176 - acc: 0.8164 - val_loss: 0.4201 - val_acc: 0.8214\n"
          ],
          "name": "stdout"
        }
      ]
    },
    {
      "cell_type": "code",
      "metadata": {
        "id": "2i-i4MzIprwf"
      },
      "source": [
        "y_pre=model.predict(test)\n",
        "y_pre=np.round(y_pre).astype(int).reshape(3263)"
      ],
      "execution_count": 27,
      "outputs": []
    }
  ]
}